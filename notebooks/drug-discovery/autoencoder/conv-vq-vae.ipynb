{
 "cells": [
  {
   "cell_type": "code",
   "execution_count": 1,
   "metadata": {},
   "outputs": [
    {
     "name": "stdout",
     "output_type": "stream",
     "text": [
      "Discovered 2 CUDA devices.\n"
     ]
    },
    {
     "name": "stderr",
     "output_type": "stream",
     "text": [
      "/opt/conda/envs/qumedl/lib/python3.11/site-packages/tqdm/auto.py:21: TqdmWarning: IProgress not found. Please update jupyter and ipywidgets. See https://ipywidgets.readthedocs.io/en/stable/user_install.html\n",
      "  from .autonotebook import tqdm as notebook_tqdm\n"
     ]
    }
   ],
   "source": [
    "from typing import Sequence\n",
    "import os\n",
    "os.environ['CUDA_VISIBLE_DEVICES'] = \"6,7\"\n",
    "\n",
    "import torch\n",
    "print(f\"Discovered {torch.cuda.device_count()} CUDA devices.\")\n",
    "\n",
    "from torch import nn\n",
    "from torch.utils.data import DataLoader, TensorDataset\n",
    "from tqdm import tqdm\n",
    "\n",
    "from qumedl.models.autoencoder.vqvae import compute_vqvae_losses, find_symmetric_vqvae_input_lengths\n",
    "from qumedl.models.autoencoder.vqvae.conv1d import Conv1DVQVAE\n",
    "from qumedl.models.autoencoder.vqvae.quantizer.loss_fn import QuantizationLoss\n",
    "from qumedl.training.collator import TensorBatchCollator, TensorBatch\n",
    "from qumedl.models.recurrent.lstm import LSTM\n",
    "from qumedl.mol.encoding.selfies_ import Selfies"
   ]
  },
  {
   "cell_type": "code",
   "execution_count": 2,
   "metadata": {},
   "outputs": [],
   "source": [
    "random_seed = 42"
   ]
  },
  {
   "cell_type": "code",
   "execution_count": 3,
   "metadata": {},
   "outputs": [],
   "source": [
    "def GPU_(i: int) -> str:\n",
    "    n_visible_devices = torch.cuda.device_count()\n",
    "    if i > n_visible_devices:\n",
    "        raise ValueError(\"Device index out of bounds.\")\n",
    "    \n",
    "    return f\"cuda:{i}\"\n",
    "\n",
    "\n",
    "vqvae_device = GPU_(0)\n",
    "lstm_device = GPU_(0)"
   ]
  },
  {
   "cell_type": "code",
   "execution_count": 4,
   "metadata": {},
   "outputs": [
    {
     "name": "stderr",
     "output_type": "stream",
     "text": [
      "Loading Selfies From CSV: 100%|██████████| 10000/10000 [00:04<00:00, 2279.81it/s]\n"
     ]
    }
   ],
   "source": [
    "selfies = Selfies.from_smiles_csv(\"/root/data/drug-discovery/10Kstoned_vsc_initial_dataset_insilico_chemistry42_filtered.csv\")\n",
    "symmetric_lengths = find_symmetric_vqvae_input_lengths(selfies.max_length, search_space_size=20, encoder_depth=3)\n",
    "selfies.max_length = symmetric_lengths[0]\n",
    "\n",
    "selfies, eval_selfies = selfies.train_test_split(0.95, shuffle=True, random_seed=random_seed)"
   ]
  },
  {
   "cell_type": "code",
   "execution_count": 5,
   "metadata": {},
   "outputs": [],
   "source": [
    "vqvae = Conv1DVQVAE(\n",
    "    vocab_size=selfies.n_tokens,\n",
    "    embedding_dim=256,\n",
    "    hidden_dim=128,\n",
    "    residual_layer_hidden_dim=256,\n",
    "    n_codes=512,\n",
    "    hidden_activation_fn=nn.LeakyReLU(negative_slope=0.001),\n",
    "    pad_token=tuple([selfies.pad_token, selfies.pad_index]),\n",
    "    output_activation_fn=nn.Identity()\n",
    ").to(vqvae_device)"
   ]
  },
  {
   "cell_type": "code",
   "execution_count": 6,
   "metadata": {},
   "outputs": [],
   "source": [
    "train_selfies_dataset = selfies.as_dataset(include_start_token=False)\n",
    "\n",
    "shuffler = torch.Generator()\n",
    "shuffler.manual_seed(random_seed)\n",
    "\n",
    "train_data_loader = DataLoader(\n",
    "    train_selfies_dataset,\n",
    "    batch_size=32,\n",
    "    shuffle=True,\n",
    "    generator=shuffler,\n",
    "    collate_fn=TensorBatchCollator(),\n",
    ")\n",
    "\n",
    "optimizer = torch.optim.AdamW(\n",
    "    vqvae.parameters(), \n",
    "    lr=5e-3,\n",
    "    betas=(0.88, 0.995)\n",
    ")\n",
    "\n",
    "reconstruction_loss_fn = torch.nn.CrossEntropyLoss()\n",
    "quantization_loss_fn = QuantizationLoss()"
   ]
  },
  {
   "cell_type": "code",
   "execution_count": 7,
   "metadata": {},
   "outputs": [],
   "source": [
    "test_batch = next(iter(train_data_loader))\n",
    "test_batch.to(vqvae_device)"
   ]
  },
  {
   "cell_type": "code",
   "execution_count": 8,
   "metadata": {},
   "outputs": [
    {
     "name": "stdout",
     "output_type": "stream",
     "text": [
      "Embedding(input_embedding.0): [torch.Size([32, 425])] -> torch.Size([32, 425, 256])\n",
      "Rearrange(input_embedding.1): [torch.Size([32, 425, 256])] -> torch.Size([32, 256, 425])\n",
      "Conv1d(encoder.conv1): [torch.Size([32, 256, 425])] -> torch.Size([32, 64, 213])\n",
      "BatchNorm1d(encoder.batch_norm_1): [torch.Size([32, 64, 213])] -> torch.Size([32, 64, 213])\n",
      "ReLU(encoder.hidden_act): [torch.Size([32, 64, 213])] -> torch.Size([32, 64, 213])\n",
      "Conv1d(encoder.conv2): [torch.Size([32, 64, 213])] -> torch.Size([32, 128, 107])\n",
      "BatchNorm1d(encoder.batch_norm_2): [torch.Size([32, 128, 107])] -> torch.Size([32, 128, 107])\n",
      "ReLU(encoder.hidden_act): [torch.Size([32, 128, 107])] -> torch.Size([32, 128, 107])\n",
      "Conv1d(encoder.conv3): [torch.Size([32, 128, 107])] -> torch.Size([32, 128, 54])\n",
      "BatchNorm1d(encoder.batch_norm_3): [torch.Size([32, 128, 54])] -> torch.Size([32, 128, 54])\n",
      "ReLU(encoder.residual_stack.layers.0._block.0): [torch.Size([32, 128, 54])] -> torch.Size([32, 128, 54])\n",
      "Conv1d(encoder.residual_stack.layers.0._block.1): [torch.Size([32, 128, 54])] -> torch.Size([32, 256, 54])\n",
      "BatchNorm1d(encoder.residual_stack.layers.0._block.2): [torch.Size([32, 256, 54])] -> torch.Size([32, 256, 54])\n",
      "ReLU(encoder.residual_stack.layers.0._block.0): [torch.Size([32, 256, 54])] -> torch.Size([32, 256, 54])\n",
      "Conv1d(encoder.residual_stack.layers.0._block.4): [torch.Size([32, 256, 54])] -> torch.Size([32, 128, 54])\n",
      "BatchNorm1d(encoder.residual_stack.layers.0._block.5): [torch.Size([32, 128, 54])] -> torch.Size([32, 128, 54])\n",
      "ReLU(encoder.residual_stack.layers.1._block.0): [torch.Size([32, 128, 54])] -> torch.Size([32, 128, 54])\n",
      "Conv1d(encoder.residual_stack.layers.1._block.1): [torch.Size([32, 128, 54])] -> torch.Size([32, 256, 54])\n",
      "BatchNorm1d(encoder.residual_stack.layers.1._block.2): [torch.Size([32, 256, 54])] -> torch.Size([32, 256, 54])\n",
      "ReLU(encoder.residual_stack.layers.1._block.0): [torch.Size([32, 256, 54])] -> torch.Size([32, 256, 54])\n",
      "Conv1d(encoder.residual_stack.layers.1._block.4): [torch.Size([32, 256, 54])] -> torch.Size([32, 128, 54])\n",
      "BatchNorm1d(encoder.residual_stack.layers.1._block.5): [torch.Size([32, 128, 54])] -> torch.Size([32, 128, 54])\n",
      "ReLU(encoder.residual_stack.hidden_activation_fn): [torch.Size([32, 128, 54])] -> torch.Size([32, 128, 54])\n",
      "Conv1d(encoder.pre_quantizer_conv): [torch.Size([32, 128, 54])] -> torch.Size([32, 64, 54])\n",
      "Conv1d(decoder.post_quantizer_conv): [torch.Size([32, 64, 54])] -> torch.Size([32, 128, 54])\n",
      "ReLU(decoder.residual_stack.layers.0._block.0): [torch.Size([32, 128, 54])] -> torch.Size([32, 128, 54])\n",
      "Conv1d(decoder.residual_stack.layers.0._block.1): [torch.Size([32, 128, 54])] -> torch.Size([32, 256, 54])\n",
      "BatchNorm1d(decoder.residual_stack.layers.0._block.2): [torch.Size([32, 256, 54])] -> torch.Size([32, 256, 54])\n",
      "ReLU(decoder.residual_stack.layers.0._block.0): [torch.Size([32, 256, 54])] -> torch.Size([32, 256, 54])\n",
      "Conv1d(decoder.residual_stack.layers.0._block.4): [torch.Size([32, 256, 54])] -> torch.Size([32, 128, 54])\n",
      "BatchNorm1d(decoder.residual_stack.layers.0._block.5): [torch.Size([32, 128, 54])] -> torch.Size([32, 128, 54])\n",
      "ReLU(decoder.residual_stack.layers.1._block.0): [torch.Size([32, 128, 54])] -> torch.Size([32, 128, 54])\n",
      "Conv1d(decoder.residual_stack.layers.1._block.1): [torch.Size([32, 128, 54])] -> torch.Size([32, 256, 54])\n",
      "BatchNorm1d(decoder.residual_stack.layers.1._block.2): [torch.Size([32, 256, 54])] -> torch.Size([32, 256, 54])\n",
      "ReLU(decoder.residual_stack.layers.1._block.0): [torch.Size([32, 256, 54])] -> torch.Size([32, 256, 54])\n",
      "Conv1d(decoder.residual_stack.layers.1._block.4): [torch.Size([32, 256, 54])] -> torch.Size([32, 128, 54])\n",
      "BatchNorm1d(decoder.residual_stack.layers.1._block.5): [torch.Size([32, 128, 54])] -> torch.Size([32, 128, 54])\n",
      "ReLU(decoder.residual_stack.hidden_activation_fn): [torch.Size([32, 128, 54])] -> torch.Size([32, 128, 54])\n",
      "ConvTranspose1d(decoder.conv_trans1): [torch.Size([32, 128, 54])] -> torch.Size([32, 64, 107])\n",
      "ReLU(decoder.hidden_act): [torch.Size([32, 64, 107])] -> torch.Size([32, 64, 107])\n",
      "ConvTranspose1d(decoder.conv_trans2): [torch.Size([32, 64, 107])] -> torch.Size([32, 64, 213])\n",
      "ReLU(decoder.hidden_act): [torch.Size([32, 64, 213])] -> torch.Size([32, 64, 213])\n",
      "ConvTranspose1d(decoder.conv_trans3): [torch.Size([32, 64, 213])] -> torch.Size([32, 39, 425])\n",
      "Identity(decoder.output_act): [torch.Size([32, 39, 425])] -> torch.Size([32, 39, 425])\n"
     ]
    }
   ],
   "source": [
    "# sanity check\n",
    "vqvae.enable_debug_hooks()\n",
    "\n",
    "# tensor = next(iter(dataloader))[0]\n",
    "encoded = vqvae.encode(test_batch.inputs)\n",
    "quantized, idxs = vqvae.quantizer(encoded)\n",
    "decoded = vqvae.decode(quantized)\n",
    "\n",
    "vqvae.disable_debug_hooks()\n",
    "# print(tensor.shape, decoded.shape)"
   ]
  },
  {
   "cell_type": "code",
   "execution_count": 9,
   "metadata": {},
   "outputs": [
    {
     "name": "stderr",
     "output_type": "stream",
     "text": [
      "Epoch 2: 100%|██████████| 594/594 [00:05<00:00, 107.90it/s, loss=0.206, rec_loss=0.178, q_loss=0.0281]\n"
     ]
    }
   ],
   "source": [
    "import matplotlib.pyplot as plt\n",
    "\n",
    "\n",
    "loss_history = {\n",
    "    \"loss\": [],\n",
    "    \"q_loss\": [],\n",
    "    \"rec_loss\": []\n",
    "}\n",
    "\n",
    "n_epochs = 2\n",
    "\n",
    "total_batches = n_epochs * len(train_data_loader)\n",
    "with tqdm(total=total_batches) as pbar:\n",
    "    for epoch in range(n_epochs):\n",
    "        pbar.set_description(f\"Epoch {epoch + 1}\")\n",
    "        tensor_batch: TensorBatch\n",
    "        \n",
    "        for tensor_batch in train_data_loader:\n",
    "            tensor_batch.to(vqvae_device)\n",
    "            rec_loss, q_loss = compute_vqvae_losses(\n",
    "                vqvae,\n",
    "                tensor_batch.inputs.long(),\n",
    "                reconstruction_loss_fn,\n",
    "                quantization_loss_fn\n",
    "            )\n",
    "            \n",
    "            total_loss = rec_loss + q_loss\n",
    "            total_loss.backward()\n",
    "            optimizer.step()\n",
    "            optimizer.zero_grad()\n",
    "            \n",
    "            step_losses = {\n",
    "                \"loss\": total_loss.item(),\n",
    "                \"rec_loss\": rec_loss.item(),\n",
    "                \"q_loss\": q_loss.item()\n",
    "            }\n",
    "            \n",
    "            pbar_formatted_step_losses = {k: round(v, 4) for k, v in step_losses.items()}\n",
    "            \n",
    "            pbar.set_postfix(pbar_formatted_step_losses)\n",
    "            pbar.update()\n",
    "            \n",
    "            for k,v in step_losses.items():\n",
    "                loss_history[k].append(v)"
   ]
  },
  {
   "cell_type": "code",
   "execution_count": 10,
   "metadata": {},
   "outputs": [
    {
     "data": {
      "image/png": "[encoded data removed]",
      "text/plain": [
       "<Figure size 640x480 with 1 Axes>"
      ]
     },
     "metadata": {},
     "output_type": "display_data"
    }
   ],
   "source": [
    "for k, v in loss_history.items():\n",
    "    plt.plot(v, label=k)\n",
    "\n",
    "plt.yscale('log')\n",
    "plt.xlabel('step')\n",
    "plt.ylabel('loss')\n",
    "plt.legend()\n",
    "plt.show()"
   ]
  },
  {
   "cell_type": "code",
   "execution_count": 11,
   "metadata": {},
   "outputs": [
    {
     "name": "stdout",
     "output_type": "stream",
     "text": [
      "['[C][C][Branch1][Branch1][C][C][C][N][C][C][=N][C][=C][Branch1][Ring2][NH1][Ring1][Branch1][C][C][N][Branch1][=C][C][=C][C][=C][C][=C][Ring1][=Branch1][C][Branch1][C][C][C][C][Ring1][S]', '[C][C][N][C][C][N][Branch2][Ring2][=N][C][=N][C][Branch1][#C][C][C][Branch1][Ring1][C][C][C][C][C][N][Ring1][#Branch1][C][C][=N][C][Branch1][C][F][=C][Ring1][P][C][=N][C][C][=C][C][=C][C][=C][Ring1][=Branch1][C][=C][N][Ring1][Branch1][C][C][C][Ring2][Ring2][Ring2]', '[C][C][N][C][C][C][Ring1][Ring2][C][N][C][=N][C][Branch1][#C][O][C][C][C][C][C][N][Ring1][Branch1][C][C][C][Ring1][Branch2][=N][C][=N][C][Branch1][=N][C][=C][C][=C][C][Branch1][C][F][=C][Ring1][#Branch1][C][=C][Branch1][C][F][C][=C][Ring2][Ring1][=N][Ring1][#C]', '[C][C][C][C][N][Branch2][Ring2][O][C][=N][C][Branch1][O][C][O][C][C][C][C][C][O][Ring1][Branch1][=C][Branch2][Ring1][Ring1][N][C][=C][N][=C][C][=C][C][=C][C][Branch1][C][C][=C][Ring1][O][Ring1][#Branch1][C][C][Ring2][Ring1][#Branch2][C][C][N][Ring2][Ring1][S]']\n",
      "['[C][C][C][Branch1][C][C][C][C][C][C][C][C][C][C][C][C][Ring1][C][C][C][=C][C][=C][C][=C][C][=C][C][=C][C][C][C][C][C][C][C][C][Ring1][Branch1]', '[C][C][C][C][C][C][C][C][=C][C][=N][C][C][C][C][C][C][C][C][C][C][C][C][C][Ring1][C][C][C][C][C][C][C][C][C][C][C][C][C][C][C][C][C][=C][C][=C][C][=C][Ring1][=Branch1][C][=C][C][C][C][C][C][C][Ring1]', '[C][C][C][C][C][C][Ring2][Branch2][C][C][C][C][Branch1][C][O][C][C][C][C][C][C][C][Ring1][C][C][C][Ring1][Ring1][C][C][C][Branch1][C][C][C][C][=C][C][=C][C][=C][C][Cl][=C][Ring1][#Branch1][Ring1][C][C][C][C][C][C][C][Ring2][Ring1][Ring1]', '[C][C][C][C][N][Branch2][Ring2][=C][C][=N][C][Branch1][C][O][C][C][C][C][C][C][C][C][C][C][C][C][Ring1][Branch2][Ring1][=C][C][=C][C][=C][C][C][C][C][C][C][C][C][=C][C][C][C][C][C][C][C][C][Ring2][Ring1][Ring2][Ring1][C]']\n"
     ]
    }
   ],
   "source": [
    "# test reconstruction\n",
    "test_molecules = selfies.mol_strings[:4]\n",
    "print(test_molecules)\n",
    "test_molecules_tensor = torch.from_numpy(selfies.asarray()[:4]).to(vqvae_device)\n",
    "\n",
    "with torch.no_grad():\n",
    "    quantized = vqvae.encode_quantize(test_molecules_tensor)\n",
    "    reconstructed = vqvae.decode(quantized)\n",
    "\n",
    "reconstructed_labels = reconstructed.argmax(dim=1).cpu().numpy()\n",
    "reconstruction_strings = selfies.decode(reconstructed_labels)\n",
    "print(reconstruction_strings)"
   ]
  }
 ],
 "metadata": {
  "kernelspec": {
   "display_name": "qmedl",
   "language": "python",
   "name": "python3"
  },
  "language_info": {
   "codemirror_mode": {
    "name": "ipython",
    "version": 3
   },
   "file_extension": ".py",
   "mimetype": "text/x-python",
   "name": "python",
   "nbconvert_exporter": "python",
   "pygments_lexer": "ipython3",
   "version": "3.11.5"
  }
 },
 "nbformat": 4,
 "nbformat_minor": 2
}
