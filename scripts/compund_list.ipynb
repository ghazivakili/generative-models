{
 "cells": [
  {
   "cell_type": "code",
   "execution_count": 5,
   "metadata": {},
   "outputs": [
    {
     "ename": "AttributeError",
     "evalue": "'Image' object has no attribute 'save'",
     "output_type": "error",
     "traceback": [
      "\u001b[0;31m---------------------------------------------------------------------------\u001b[0m",
      "\u001b[0;31mAttributeError\u001b[0m                            Traceback (most recent call last)",
      "Cell \u001b[0;32mIn[5], line 20\u001b[0m\n\u001b[1;32m     12\u001b[0m img \u001b[38;5;241m=\u001b[39m Draw\u001b[38;5;241m.\u001b[39mMolsToGridImage(\n\u001b[1;32m     13\u001b[0m     molecules,\n\u001b[1;32m     14\u001b[0m     molsPerRow\u001b[38;5;241m=\u001b[39m\u001b[38;5;241m3\u001b[39m,\n\u001b[1;32m     15\u001b[0m     subImgSize\u001b[38;5;241m=\u001b[39m(\u001b[38;5;241m200\u001b[39m, \u001b[38;5;241m200\u001b[39m),\n\u001b[1;32m     16\u001b[0m     legends\u001b[38;5;241m=\u001b[39mdf[\u001b[38;5;124m\"\u001b[39m\u001b[38;5;124mMolecule Name/ID\u001b[39m\u001b[38;5;124m\"\u001b[39m]\u001b[38;5;241m.\u001b[39mtolist(),\n\u001b[1;32m     17\u001b[0m )\n\u001b[1;32m     19\u001b[0m \u001b[38;5;66;03m# Save or show the image\u001b[39;00m\n\u001b[0;32m---> 20\u001b[0m \u001b[43mimg\u001b[49m\u001b[38;5;241;43m.\u001b[39;49m\u001b[43msave\u001b[49m(\u001b[38;5;124m\"\u001b[39m\u001b[38;5;124mmolecules.png\u001b[39m\u001b[38;5;124m\"\u001b[39m)  \u001b[38;5;66;03m# Save as PNG\u001b[39;00m\n\u001b[1;32m     21\u001b[0m img\u001b[38;5;241m.\u001b[39mshow()  \u001b[38;5;66;03m# Show the image\u001b[39;00m\n",
      "\u001b[0;31mAttributeError\u001b[0m: 'Image' object has no attribute 'save'"
     ]
    }
   ],
   "source": [
    "from rdkit import Chem\n",
    "from rdkit.Chem import Draw\n",
    "import pandas as pd\n",
    "\n",
    "# Load the data\n",
    "df = pd.read_csv(\"qcbm_list.csv\")\n",
    "\n",
    "# Create a list of RDKit molecule objects from the SMILES strings\n",
    "molecules = [Chem.MolFromSmiles(smiles) for smiles in df[\"SMILES\"]]\n",
    "\n",
    "# Create a grid of images for the molecules\n",
    "img = Draw.MolsToGridImage(\n",
    "    molecules,\n",
    "    molsPerRow=3,\n",
    "    subImgSize=(200, 200),\n",
    "    legends=df[\"Molecule Name/ID\"].tolist(),\n",
    ")\n",
    "\n",
    "# Save or show the image\n",
    "img.save(\"molecules.png\")  # Save as PNG\n",
    "img.show()  # Show the image"
   ]
  }
 ],
 "metadata": {
  "language_info": {
   "name": "python"
  }
 },
 "nbformat": 4,
 "nbformat_minor": 2
}
